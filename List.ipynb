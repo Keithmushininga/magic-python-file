{
 "cells": [
  {
   "cell_type": "markdown",
   "id": "ffa07bf2",
   "metadata": {},
   "source": [
    "**Python Lists**\n"
   ]
  },
  {
   "cell_type": "markdown",
   "id": "8ee6456b",
   "metadata": {},
   "source": [
    "* Lists items are mutable(changeable) and ordered collection of elements. \n",
    "* List items allows duplicate values \n",
    "* Different data types can be stored in a list. \n",
    "* List elements can be accessed by their index."
   ]
  },
  {
   "cell_type": "code",
   "execution_count": 1,
   "id": "86b8a003",
   "metadata": {},
   "outputs": [
    {
     "name": "stdout",
     "output_type": "stream",
     "text": [
      "['cat', 'dog', 'goat', 'sheep']\n"
     ]
    }
   ],
   "source": [
    "animals = [\"cat\", \"dog\", \"goat\", \"sheep\"]\n",
    "print(animals)"
   ]
  },
  {
   "cell_type": "code",
   "execution_count": 2,
   "id": "b33ab2f2",
   "metadata": {},
   "outputs": [
    {
     "name": "stdout",
     "output_type": "stream",
     "text": [
      "[1, 2, 3, 4, 5]\n"
     ]
    }
   ],
   "source": [
    "numbers = [1, 2, 3, 4, 5]\n",
    "print(numbers)"
   ]
  },
  {
   "cell_type": "code",
   "execution_count": 3,
   "id": "33dc5597",
   "metadata": {},
   "outputs": [
    {
     "name": "stdout",
     "output_type": "stream",
     "text": [
      "4\n",
      "<class 'list'>\n"
     ]
    }
   ],
   "source": [
    "# Finding the number of elements in a list\n",
    "print(len(animals))\n",
    "# find the class type\n",
    "print(type(animals))"
   ]
  },
  {
   "cell_type": "markdown",
   "id": "b2aabc92",
   "metadata": {},
   "source": [
    "* List Slicing -- allows extraction of a portion in a list."
   ]
  },
  {
   "cell_type": "code",
   "execution_count": 4,
   "id": "9815a922",
   "metadata": {},
   "outputs": [
    {
     "name": "stdout",
     "output_type": "stream",
     "text": [
      "['dog', 'goat']\n",
      "['dog', 'goat', 'sheep']\n",
      "sheep\n"
     ]
    }
   ],
   "source": [
    "print(animals[1:3])\n",
    "print(animals[1:])\n",
    "print(animals[-1])"
   ]
  },
  {
   "cell_type": "markdown",
   "id": "490bc9a3",
   "metadata": {},
   "source": [
    "**List Operation to add items**"
   ]
  },
  {
   "cell_type": "code",
   "execution_count": 5,
   "id": "d2c3c72e",
   "metadata": {},
   "outputs": [
    {
     "name": "stdout",
     "output_type": "stream",
     "text": [
      "['cat', 'cow', 'dog', 'goat', 'sheep']\n"
     ]
    }
   ],
   "source": [
    "# insert()\n",
    "# Inserting \"cow\" to the list (animals) at second position \n",
    "animals.insert(1, \"cow\")\n",
    "print(animals)"
   ]
  },
  {
   "cell_type": "code",
   "execution_count": 6,
   "id": "effdaeae",
   "metadata": {},
   "outputs": [
    {
     "name": "stdout",
     "output_type": "stream",
     "text": [
      "['cat', 'cow', 'dog', 'goat', 'sheep', 'donkey']\n"
     ]
    }
   ],
   "source": [
    "# append() - add the item at the last position\n",
    "animals.append(\"donkey\")\n",
    "print(animals)"
   ]
  },
  {
   "cell_type": "code",
   "execution_count": 7,
   "id": "f074bb25",
   "metadata": {},
   "outputs": [
    {
     "name": "stdout",
     "output_type": "stream",
     "text": [
      "['cat', 'cow', 'dog', 'goat', 'sheep', 'donkey', 'lion', 'leopard', 'tiger', 'cheetah']\n"
     ]
    }
   ],
   "source": [
    "# extend()\n",
    "animals1 = [\"lion\", \"leopard\", \"tiger\", \"cheetah\"]\n",
    "animals.extend(animals1)\n",
    "print(animals)"
   ]
  },
  {
   "cell_type": "markdown",
   "id": "b8570de2",
   "metadata": {},
   "source": [
    "- It is possible to add elements of a tuple to a list\n"
   ]
  },
  {
   "cell_type": "code",
   "execution_count": 8,
   "id": "e99644c4",
   "metadata": {},
   "outputs": [
    {
     "name": "stdout",
     "output_type": "stream",
     "text": [
      "[1, 2, 3, 4, 5, 6, 7, 8, 9]\n"
     ]
    }
   ],
   "source": [
    "numbers1 = (6, 7, 8, 9)\n",
    "numbers.extend(numbers1)\n",
    "print(numbers)"
   ]
  },
  {
   "cell_type": "markdown",
   "id": "61f0b48a",
   "metadata": {},
   "source": [
    "***Removing items from a list***"
   ]
  },
  {
   "cell_type": "code",
   "execution_count": 9,
   "id": "3dc5f9f2",
   "metadata": {},
   "outputs": [
    {
     "name": "stdout",
     "output_type": "stream",
     "text": [
      "['cat', 'goat', 'sheep', 'cow']\n"
     ]
    }
   ],
   "source": [
    "# remove(): removes the specified item\n",
    "# remove the item \"dog\"\n",
    "animals = [\"cat\", \"dog\", \"goat\", \"sheep\", \"cow\"]\n",
    "animals.remove(\"dog\")\n",
    "print(animals)"
   ]
  },
  {
   "cell_type": "code",
   "execution_count": 10,
   "id": "80eb5afa",
   "metadata": {},
   "outputs": [
    {
     "name": "stdout",
     "output_type": "stream",
     "text": [
      "['cat', 'dog', 'sheep', 'cow']\n"
     ]
    }
   ],
   "source": [
    "#pop(): it removes the specified index. \n",
    "animals = [\"cat\", \"dog\", \"goat\", \"sheep\", \"cow\"]\n",
    "animals.pop(2)\n",
    "print(animals)"
   ]
  },
  {
   "cell_type": "code",
   "execution_count": 11,
   "id": "33bbd2af",
   "metadata": {},
   "outputs": [
    {
     "name": "stdout",
     "output_type": "stream",
     "text": [
      "['cat', 'dog', 'goat', 'sheep']\n"
     ]
    }
   ],
   "source": [
    "#del: this keyword also removes the specified index\n",
    "# In addition it can delete the list compeletely\n",
    "animals = [\"cat\", \"dog\", \"goat\", \"sheep\", \"cow\"]\n",
    "del animals[4]\n",
    "print(animals)\n"
   ]
  },
  {
   "cell_type": "code",
   "execution_count": 12,
   "id": "6f268bc8",
   "metadata": {},
   "outputs": [
    {
     "name": "stdout",
     "output_type": "stream",
     "text": [
      "[]\n"
     ]
    }
   ],
   "source": [
    "\n",
    "#clear(): this method empties the list (The list still remains, but it has no content)\n",
    "animals = [\"cat\", \"dog\", \"goat\", \"sheep\", \"cow\"]\n",
    "animals.clear()\n",
    "print(animals)"
   ]
  },
  {
   "cell_type": "markdown",
   "id": "c76d9072",
   "metadata": {},
   "source": [
    "**List sorting**"
   ]
  },
  {
   "cell_type": "code",
   "execution_count": 13,
   "id": "b291aebd",
   "metadata": {},
   "outputs": [
    {
     "name": "stdout",
     "output_type": "stream",
     "text": [
      "['cat', 'cow', 'dog', 'goat', 'sheep']\n"
     ]
    }
   ],
   "source": [
    "#sort(): By default the function sort in ascending order\n",
    "animals = [\"cat\", \"dog\", \"goat\", \"sheep\", \"cow\"]\n",
    "animals.sort()\n",
    "print(animals)\n"
   ]
  },
  {
   "cell_type": "code",
   "execution_count": 14,
   "id": "51a4d9f6",
   "metadata": {},
   "outputs": [
    {
     "name": "stdout",
     "output_type": "stream",
     "text": [
      "['sheep', 'goat', 'dog', 'cow', 'cat']\n"
     ]
    }
   ],
   "source": [
    "# sort(): To sort descending, use the keyword argument reverse = True:\n",
    "animals = [\"cat\", \"dog\", \"goat\", \"sheep\", \"cow\"]\n",
    "animals.sort(reverse=True)\n",
    "print(animals)"
   ]
  },
  {
   "cell_type": "code",
   "execution_count": 15,
   "id": "f54147db",
   "metadata": {},
   "outputs": [
    {
     "name": "stdout",
     "output_type": "stream",
     "text": [
      "['cow', 'sheep', 'goat', 'dog', 'cat']\n"
     ]
    }
   ],
   "source": [
    "# reverse(): this method reverses the current sorting order of the elements.\n",
    "animals = [\"cat\", \"dog\", \"goat\", \"sheep\", \"cow\"]\n",
    "animals.reverse()\n",
    "print(animals)"
   ]
  },
  {
   "cell_type": "markdown",
   "id": "11e04fc4",
   "metadata": {},
   "source": [
    "**Joining two lists**"
   ]
  },
  {
   "cell_type": "code",
   "execution_count": 16,
   "id": "6f1aba1e",
   "metadata": {},
   "outputs": [
    {
     "name": "stdout",
     "output_type": "stream",
     "text": [
      "['England', 'France', 'Spain', 'Italy', 'Germany', 'Zimbabwe', 'Kenya', 'Rwanda', 'Zambia', 'Uganda']\n"
     ]
    }
   ],
   "source": [
    "# Using the + operator\n",
    "Europe = [\"England\", \"France\", \"Spain\", \"Italy\", \"Germany\"]\n",
    "Africa = [\"Zimbabwe\", \"Kenya\", \"Rwanda\", \"Zambia\", \"Uganda\"]\n",
    "Country = Europe + Africa\n",
    "print(Country)"
   ]
  },
  {
   "cell_type": "code",
   "execution_count": 17,
   "id": "345c3d55",
   "metadata": {},
   "outputs": [
    {
     "name": "stdout",
     "output_type": "stream",
     "text": [
      "['England', 'France', 'Spain', 'Italy', 'Germany', 'Zimbabwe', 'Kenya', 'Rwanda', 'Zambia', 'Uganda']\n"
     ]
    }
   ],
   "source": [
    "#Append list 2 into list 1\n",
    "Europe = [\"England\", \"France\", \"Spain\", \"Italy\", \"Germany\"]\n",
    "Africa = [\"Zimbabwe\", \"Kenya\", \"Rwanda\", \"Zambia\", \"Uganda\"]\n",
    "for x in Africa:\n",
    "    Europe.append(x)\n",
    "print(Europe)"
   ]
  },
  {
   "cell_type": "code",
   "execution_count": 18,
   "id": "b2356233",
   "metadata": {},
   "outputs": [
    {
     "name": "stdout",
     "output_type": "stream",
     "text": [
      "['England', 'France', 'Spain', 'Italy', 'Germany', 'Zimbabwe', 'Kenya', 'Rwanda', 'Zambia', 'Uganda']\n"
     ]
    }
   ],
   "source": [
    "# Use the extend() method to add list2 at the end of list1:\n",
    "Europe = [\"England\", \"France\", \"Spain\", \"Italy\", \"Germany\"]\n",
    "Africa = [\"Zimbabwe\", \"Kenya\", \"Rwanda\", \"Zambia\", \"Uganda\"]\n",
    "Europe.extend(Africa)\n",
    "print(Europe)\n"
   ]
  },
  {
   "cell_type": "markdown",
   "id": "a517b66c",
   "metadata": {},
   "source": [
    "**Copy Lists**"
   ]
  },
  {
   "cell_type": "code",
   "execution_count": 19,
   "id": "1a2d666f",
   "metadata": {},
   "outputs": [
    {
     "name": "stdout",
     "output_type": "stream",
     "text": [
      "['cat', 'dog', 'goat', 'sheep', 'cow']\n"
     ]
    }
   ],
   "source": [
    "# Make a copy of a list with the copy() method: built-in method list().\n",
    "animals = [\"cat\", \"dog\", \"goat\", \"sheep\", \"cow\"]\n",
    "newlist = animals.copy()\n",
    "print(newlist)"
   ]
  },
  {
   "cell_type": "code",
   "execution_count": 20,
   "id": "f8112bd3",
   "metadata": {},
   "outputs": [
    {
     "name": "stdout",
     "output_type": "stream",
     "text": [
      "['cat', 'dog', 'goat', 'sheep', 'cow']\n"
     ]
    }
   ],
   "source": [
    "animals = [\"cat\", \"dog\", \"goat\", \"sheep\", \"cow\"]\n",
    "newlist = list(animals)\n",
    "print(newlist)"
   ]
  },
  {
   "cell_type": "markdown",
   "id": "036e3517",
   "metadata": {},
   "source": [
    "**List Repetition**"
   ]
  },
  {
   "cell_type": "code",
   "execution_count": 21,
   "id": "769fce42",
   "metadata": {},
   "outputs": [
    {
     "name": "stdout",
     "output_type": "stream",
     "text": [
      "['cat', 'dog', 'goat', 'sheep', 'cow', 'cat', 'dog', 'goat', 'sheep', 'cow']\n"
     ]
    }
   ],
   "source": [
    "animals = [\"cat\", \"dog\", \"goat\", \"sheep\", \"cow\"]*2\n",
    "print(animals)"
   ]
  },
  {
   "cell_type": "markdown",
   "id": "d56d6671",
   "metadata": {},
   "source": [
    "**List elements accessing**"
   ]
  },
  {
   "cell_type": "code",
   "execution_count": 22,
   "id": "ca13588c",
   "metadata": {},
   "outputs": [
    {
     "data": {
      "text/plain": [
       "'cat'"
      ]
     },
     "execution_count": 22,
     "metadata": {},
     "output_type": "execute_result"
    }
   ],
   "source": [
    "animals = [\"cat\", \"dog\", \"goat\", \"sheep\", \"cow\"]\n",
    "first_element = animals[0]\n",
    "first_element\n"
   ]
  },
  {
   "cell_type": "markdown",
   "id": "8c2e2c51",
   "metadata": {},
   "source": [
    "**List elements modifications**"
   ]
  },
  {
   "cell_type": "code",
   "execution_count": 23,
   "id": "19450ba4",
   "metadata": {},
   "outputs": [
    {
     "data": {
      "text/plain": [
       "['cat', 'donkey', 'goat', 'sheep', 'cow']"
      ]
     },
     "execution_count": 23,
     "metadata": {},
     "output_type": "execute_result"
    }
   ],
   "source": [
    "animals = [\"cat\", \"dog\", \"goat\", \"sheep\", \"cow\"]\n",
    "animals[1] = \"donkey\"\n",
    "animals"
   ]
  }
 ],
 "metadata": {
  "kernelspec": {
   "display_name": "Python 3 (ipykernel)",
   "language": "python",
   "name": "python3"
  },
  "language_info": {
   "codemirror_mode": {
    "name": "ipython",
    "version": 3
   },
   "file_extension": ".py",
   "mimetype": "text/x-python",
   "name": "python",
   "nbconvert_exporter": "python",
   "pygments_lexer": "ipython3",
   "version": "3.11.3"
  }
 },
 "nbformat": 4,
 "nbformat_minor": 5
}
