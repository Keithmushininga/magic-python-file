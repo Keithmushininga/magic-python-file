{
 "cells": [
  {
   "cell_type": "markdown",
   "id": "3dccf32a",
   "metadata": {},
   "source": [
    "**Exercise 1**(<font color = red> 6pts  </font>)\n",
    "\n",
    "1- A store charges RWF 12 per item if you buy less than 10 items. If you buy between 10 and 99 items, the cost is RWF 10 per item. If you buy 100 or more items, the cost is RWF 7 per item. Write the ADL of the function, named <b>Cost</b>, that takes how many items ,$n$, they are buying and returns the total cost. (<font color = red> 3pts  </font>)\n",
    "\n",
    "2- Translate the ADL into a python code.(<font color = red> 2pts  </font>)"
   ]
  },
  {
   "cell_type": "code",
   "execution_count": 52,
   "id": "6307b832",
   "metadata": {},
   "outputs": [],
   "source": [
    "def Cost(n):\n",
    "    if n < 10:\n",
    "        C = n*12\n",
    "        return C\n",
    "    elif n<100:\n",
    "        C = n*10\n",
    "        return C\n",
    "    else:\n",
    "        C = n*7\n",
    "        return C\n",
    "    \n",
    "    "
   ]
  },
  {
   "cell_type": "markdown",
   "id": "9f1f8edd",
   "metadata": {},
   "source": [
    "3- Test the function <b>Cost</b> for $n = 50 \\text{ and } 255$. (<font color = red> 1pt  </font>)"
   ]
  },
  {
   "cell_type": "code",
   "execution_count": 53,
   "id": "de596fdd",
   "metadata": {},
   "outputs": [
    {
     "name": "stdout",
     "output_type": "stream",
     "text": [
      "500\n",
      "1785\n"
     ]
    }
   ],
   "source": [
    "print(Cost(50))\n",
    "print(Cost(255))"
   ]
  },
  {
   "cell_type": "markdown",
   "id": "8e9f5af0",
   "metadata": {},
   "source": [
    "**Exercise 2**(<font color = red> 10pts  </font>)\n",
    "\n",
    "1- Write the ADL of the function, named <b>QuadEqu</b>, that takes as inputs three numbers\n",
    "$a$, $b$, $c$ ∈ $\\mathbb{R}$ and return the solution in R of the equation\n",
    "$ax^2 + bx + c = 0$. (<font color = red> 3pts  </font>)\n",
    "\n",
    "2- Translate the ADL into a python code such that $a=1$ by default. (<font color = red> 4pts  </font>)"
   ]
  },
  {
   "cell_type": "code",
   "execution_count": 68,
   "id": "bbec99ff",
   "metadata": {},
   "outputs": [],
   "source": [
    "def QuadEqu(a,b,c):\n",
    "    if a == 0:\n",
    "        if b==0:\n",
    "            if c==0:\n",
    "                return \"infinity solution\"\n",
    "            else:\n",
    "                return \"no solution\"\n",
    "        else:\n",
    "            x = -c/b\n",
    "    else:\n",
    "        x1 = (-b+(b**2-4*a*c)**1/2)/2*a\n",
    "        x2 = (-b-(b**2-4*a*c)**1/2)/2*a\n",
    "        return x1, x2\n",
    "\n"
   ]
  },
  {
   "cell_type": "markdown",
   "id": "e3ce1b33",
   "metadata": {},
   "source": [
    "3- Test the function  <b>QuadEqu</b> for \n",
    "- $a=1, b=2, c=1$,\n",
    "- $a=2, b=2, c=40$,\n",
    "- $a=2, b=3, c=-5$. \n",
    "\n",
    "(<font color = red> 3pts  </font>)"
   ]
  },
  {
   "cell_type": "code",
   "execution_count": 55,
   "id": "2751e711",
   "metadata": {},
   "outputs": [
    {
     "name": "stdout",
     "output_type": "stream",
     "text": [
      "(-1.0, -1.0)\n",
      "(-160.0, 156.0)\n",
      "(21.5, -27.5)\n"
     ]
    }
   ],
   "source": [
    "print(QuadEqu(1,2,1))\n",
    "print(QuadEqu(2,2,40))\n",
    "print(QuadEqu(2,3,-5))"
   ]
  },
  {
   "cell_type": "markdown",
   "id": "3402636d",
   "metadata": {},
   "source": [
    "**Exercise 3** (<font color = red> 9pts  </font>)\n",
    "\n",
    "1- A year is a leap year if it is divisible by 4, except that years divisible\n",
    "by 100 are not leap years unless they are also divisible by 400.\n",
    "Write the ADL of the function, named <b>LeapYear</b>, that takes a year, $y$, and return the boolean <b>True</b>\n",
    "if $y$ is a leap year; <b>False</b> otherwise.(<font color = red> 3pts  </font>)\n",
    "\n",
    "2- Translate the ADL into a python code. (<font color = red> 2pts  </font>)"
   ]
  },
  {
   "cell_type": "code",
   "execution_count": 56,
   "id": "18e7274f",
   "metadata": {},
   "outputs": [],
   "source": [
    "def LeapYear(n):\n",
    "    if n%4==0 and n%100!=0 or n%400==0:\n",
    "        y = True\n",
    "        return y\n",
    "    else:\n",
    "        y = False\n",
    "        return y\n"
   ]
  },
  {
   "cell_type": "markdown",
   "id": "64e7764f",
   "metadata": {},
   "source": [
    "3- Test the python code for the years 1700, 1900, 1996 and 2000. (<font color = red> 1pts  </font>)"
   ]
  },
  {
   "cell_type": "code",
   "execution_count": 57,
   "id": "978820ae",
   "metadata": {},
   "outputs": [
    {
     "name": "stdout",
     "output_type": "stream",
     "text": [
      "False\n",
      "False\n",
      "True\n",
      "True\n"
     ]
    }
   ],
   "source": [
    "print(LeapYear(1700))\n",
    "print(LeapYear(1900))\n",
    "print(LeapYear(1996))\n",
    "print(LeapYear(2000))"
   ]
  },
  {
   "cell_type": "markdown",
   "id": "957119cb",
   "metadata": {},
   "source": [
    "4- Write the python code that asks the user to enter a year,$z$ , and displays how many leap years are between 1996 and that year. Test your code for $z=2023$ (<font color = red> 3pts  </font>)"
   ]
  },
  {
   "cell_type": "code",
   "execution_count": 62,
   "id": "7858ff60",
   "metadata": {},
   "outputs": [
    {
     "name": "stdout",
     "output_type": "stream",
     "text": [
      "Enter a year1996\n",
      "1\n"
     ]
    }
   ],
   "source": [
    "n = eval(input(\"Enter a year\"))\n",
    "a = abs(1996-n)//4\n",
    "b = abs(1996-n)//400\n",
    "c = abs(1996-n)//100\n",
    "count = a+b-c+1\n",
    "print(count)"
   ]
  },
  {
   "cell_type": "markdown",
   "id": "e55d66ae",
   "metadata": {},
   "source": [
    "**Exercise 4** (<font color = red> 4pts  </font>)\n",
    "\n",
    "The digital root of a positive number n is obtained as follows: Add up the digits n to get a new number.\n",
    "Add up the digits of that to get another new number. Keep doing this until you get a number\n",
    "that has only one digit. That number is the digital root.\n",
    "\n",
    "For example, if $n = 45893$, we add up the digits to get $$4 + 5 + 8 + 9 + 3 = 29.$$ We then add up\n",
    "the digits of $29$ to get $$2 + 9 = 11.$$ We then add up the digits of $11$ to get $$1 + 1 = 2.$$ Since 2 has\n",
    "only one digit, 2 is our digital root.\n",
    "\n",
    "1- Write the Python code of the function **DigRoot** that returns the digital root of an integer $n$ given as input (you can use the python function **len**).(<font color = red> 3pts  </font>)\n",
    "\n"
   ]
  },
  {
   "cell_type": "code",
   "execution_count": 63,
   "id": "90783e77",
   "metadata": {},
   "outputs": [],
   "source": [
    "def DigRoot(n):\n",
    "    C= n % 9\n",
    "    return C\n"
   ]
  },
  {
   "cell_type": "markdown",
   "id": "9de95909",
   "metadata": {},
   "source": [
    "2-  Test the function **DigRoot** for $n = 74568$.(<font color = red> 1pts  </font>)"
   ]
  },
  {
   "cell_type": "code",
   "execution_count": 64,
   "id": "e500fe9f",
   "metadata": {},
   "outputs": [
    {
     "name": "stdout",
     "output_type": "stream",
     "text": [
      "2\n"
     ]
    }
   ],
   "source": [
    "print(DigRoot(45893))"
   ]
  },
  {
   "cell_type": "markdown",
   "id": "c3ff070f",
   "metadata": {},
   "source": [
    "**Exercise 5**(<font color = red> 6pts  </font>)\n",
    "\n",
    "1- Write a Python code that asks the user to enter a string and displays the number of upper case letters and lower case letters. Check for: **The quick Brow Fox and 'I am proud of Mr McDonald**. (<font color = red> 3pts  </font>)"
   ]
  },
  {
   "cell_type": "code",
   "execution_count": null,
   "id": "dd40e769",
   "metadata": {},
   "outputs": [],
   "source": []
  },
  {
   "cell_type": "markdown",
   "id": "c753dd6a",
   "metadata": {},
   "source": [
    "2- Write a Python code that asks the user to input two strings and returns the first location in which the strings differ. If the strings are identical, it should return -1. (<font color = red> 3pts  </font>)"
   ]
  },
  {
   "cell_type": "code",
   "execution_count": null,
   "id": "2e55208b",
   "metadata": {},
   "outputs": [],
   "source": []
  },
  {
   "cell_type": "markdown",
   "id": "0bc2f223",
   "metadata": {},
   "source": [
    "**Exercise 6**(<font color = red> 6pts  </font>)\n",
    "\n",
    "1- Write a Python code of function, named **AllDivisor** , that takes a positive integer $n$ as input and returns the list of all the divisors of $n$. (<font color = red> 3pts  </font>)"
   ]
  },
  {
   "cell_type": "code",
   "execution_count": 65,
   "id": "ea4dcd02",
   "metadata": {},
   "outputs": [],
   "source": [
    "def AllDivisor(n):\n",
    "    l=1\n",
    "    for i in range(1, n//2 +1):\n",
    "        if n%i == 0:\n",
    "            l = l+1\n",
    "            return l\n",
    "        "
   ]
  },
  {
   "cell_type": "markdown",
   "id": "3ce1d819",
   "metadata": {},
   "source": [
    "2- Write a Python code, based on the function **AllDivisor**, that asks the user to enter a positive integer $n$\n",
    "and tells if n is a prime number or not. Test the code for $n=97$. (<font color = red> 3pts  </font>)"
   ]
  },
  {
   "cell_type": "code",
   "execution_count": 66,
   "id": "27741ae4",
   "metadata": {},
   "outputs": [
    {
     "name": "stdout",
     "output_type": "stream",
     "text": [
      "2\n"
     ]
    }
   ],
   "source": [
    "print(AllDivisor(97))"
   ]
  },
  {
   "cell_type": "markdown",
   "id": "8f959239",
   "metadata": {},
   "source": [
    "**Exercise 7**(<font color = red> 9pts  </font>)\n",
    "\n",
    "1- Use the python lambda syntax to define the function $ f(x) = x^3 -3x - 5$ then compute and display $f(-10)$, $f(10)$. (<font color = red> 3pts  </font>)"
   ]
  },
  {
   "cell_type": "code",
   "execution_count": 2,
   "id": "b7669ad0",
   "metadata": {},
   "outputs": [
    {
     "name": "stdout",
     "output_type": "stream",
     "text": [
      "-975\n",
      "965\n"
     ]
    }
   ],
   "source": [
    "f = lambda x: x**3-3*x-5\n",
    "print(f(-10))\n",
    "print(f(10))"
   ]
  },
  {
   "cell_type": "markdown",
   "id": "f8959561",
   "metadata": {},
   "source": [
    "2- Let us consider a continuous function “f” which is defined on the closed interval [a, b], is given with f(a) and f(b) of different signs. Then by intermediate theorem, there exists a point x belong to (a, b) for which f(x) = 0. The bisection method is an approximation method to find the roots of the given equation by repeatedly dividing the interval. This method will divide the interval until the resulting interval is found, which is extremely small.\n",
    "\n",
    "Given the following function $ f(x) = x^3 -3x - 5;$ let $x_0 \\in [a,b]$ be the solution of the equation $f(x) = 0$. Write a function named **Bissection** that returns an approximation $\\bar{x}$ of $x_0$ such that $$ \\mid \\bar{x} - x_0 \\mid \\leq \\epsilon, $$\n",
    "for the given inputs $a,b$ and $\\epsilon$ with a default value $10^{-2}$.(<font color = red> 5pts  </font>)"
   ]
  },
  {
   "cell_type": "code",
   "execution_count": 70,
   "id": "59b77970",
   "metadata": {},
   "outputs": [],
   "source": [
    "\n",
    "\n",
    "def f(x):\n",
    "    return x**3-3*x-5\n",
    "def Bissection(x0,x1):\n",
    "    e = 10**-2\n",
    "    step = 1\n",
    "    condition = True\n",
    "    while condition:\n",
    "        x2 = (x0 + x1)/2\n",
    "        print((step, x2, f(x2)))\n",
    "\n",
    "        if f(x0) * f(x2) < 0:\n",
    "            x1 = x2\n",
    "        else:\n",
    "            x0 = x2\n",
    "        \n",
    "        step = step + 1\n",
    "        condition = abs(f(x2)) > e\n",
    "\n",
    "    print(x2)\n",
    "\n",
    "\n"
   ]
  },
  {
   "cell_type": "markdown",
   "id": "d5804b38",
   "metadata": {},
   "source": [
    "3- Test the function **Bissection** for $a=-10, b=10$. (<font color = red> 1pts  </font>)"
   ]
  },
  {
   "cell_type": "code",
   "execution_count": 71,
   "id": "2deaaaf5",
   "metadata": {},
   "outputs": [
    {
     "name": "stdout",
     "output_type": "stream",
     "text": [
      "(1, 0.0, -5.0)\n",
      "(2, 5.0, 105.0)\n",
      "(3, 2.5, 3.125)\n",
      "(4, 1.25, -6.796875)\n",
      "(5, 1.875, -4.033203125)\n",
      "(6, 2.1875, -1.094970703125)\n",
      "(7, 2.34375, 0.843353271484375)\n",
      "(8, 2.265625, -0.16729354858398438)\n",
      "(9, 2.3046875, 0.32747983932495117)\n",
      "(10, 2.28515625, 0.07747799158096313)\n",
      "(11, 2.275390625, -0.04555877298116684)\n",
      "(12, 2.2802734375, 0.015796511434018612)\n",
      "(13, 2.27783203125, -0.014921861584298313)\n",
      "(14, 2.279052734375, 0.0004271367652108893)\n",
      "2.279052734375\n",
      "None\n"
     ]
    }
   ],
   "source": [
    "print(Bissection(-10, 10))"
   ]
  },
  {
   "cell_type": "code",
   "execution_count": null,
   "id": "3fad6d52",
   "metadata": {},
   "outputs": [],
   "source": []
  }
 ],
 "metadata": {
  "kernelspec": {
   "display_name": "Python 3",
   "language": "python",
   "name": "python3"
  },
  "language_info": {
   "codemirror_mode": {
    "name": "ipython",
    "version": 3
   },
   "file_extension": ".py",
   "mimetype": "text/x-python",
   "name": "python",
   "nbconvert_exporter": "python",
   "pygments_lexer": "ipython3",
   "version": "3.9.2"
  }
 },
 "nbformat": 4,
 "nbformat_minor": 5
}
