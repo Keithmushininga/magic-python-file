{
 "cells": [
  {
   "cell_type": "markdown",
   "id": "56f42a94",
   "metadata": {},
   "source": [
    "# Sets"
   ]
  },
  {
   "cell_type": "markdown",
   "id": "8fcc4ee1",
   "metadata": {},
   "source": [
    "* A set is an unordered and mutable collection of unique elements.\n",
    "* Sets are defined using curly braces '{}' and can contain a variety of data types, including numbers, strings, and other sets.\n",
    "* Sets are useful for tasks that involve testing membership, removing duplicates from a sequence, and performing set operations such as union, intersection, and difference."
   ]
  },
  {
   "cell_type": "code",
   "execution_count": 2,
   "id": "3e8a6719",
   "metadata": {},
   "outputs": [
    {
     "name": "stdout",
     "output_type": "stream",
     "text": [
      "{'John', 'Maria', 'Farai', 'Peter', 'Rachel'}\n"
     ]
    }
   ],
   "source": [
    "Students = {\"Peter\", \"Rachel\", \"Maria\", \"John\", \"Rachel\", \"Farai\", \"Peter\"}\n",
    "print(Students)"
   ]
  },
  {
   "cell_type": "code",
   "execution_count": 3,
   "id": "ea36908d",
   "metadata": {},
   "outputs": [
    {
     "name": "stdout",
     "output_type": "stream",
     "text": [
      "5\n"
     ]
    }
   ],
   "source": [
    "print(len(Students))"
   ]
  },
  {
   "cell_type": "code",
   "execution_count": 4,
   "id": "387cf9de",
   "metadata": {},
   "outputs": [
    {
     "name": "stdout",
     "output_type": "stream",
     "text": [
      "<class 'set'>\n"
     ]
    }
   ],
   "source": [
    "print(type(Students))"
   ]
  },
  {
   "cell_type": "code",
   "execution_count": 6,
   "id": "07efa80f",
   "metadata": {},
   "outputs": [
    {
     "name": "stdout",
     "output_type": "stream",
     "text": [
      "{'cat', True, 2, 5, 'dog'}\n"
     ]
    }
   ],
   "source": [
    "#Note: The values True and 1 are considered the same value in sets and treated as duplicates:\n",
    "animals = {\"dog\", \"cat\", True, 2, 1, 5}\n",
    "print(animals)"
   ]
  },
  {
   "cell_type": "code",
   "execution_count": 7,
   "id": "b104218a",
   "metadata": {},
   "outputs": [
    {
     "name": "stdout",
     "output_type": "stream",
     "text": [
      "{'Maria', 'Rachel', 'John', 'Adam', 'Peter'}\n"
     ]
    }
   ],
   "source": [
    "# Using the set() constructor to make a set:\n",
    "Students = set((\"Peter\", \"Rachel\", \"Maria\", \"John\", \"Adam\"))\n",
    "print(Students)"
   ]
  },
  {
   "cell_type": "markdown",
   "id": "4098b482",
   "metadata": {},
   "source": [
    "### Access set items"
   ]
  },
  {
   "cell_type": "markdown",
   "id": "c9632231",
   "metadata": {},
   "source": [
    "* Items can not be accessed through index or key reference\n",
    "* But you can loop through the set items using a for loop, or ask if a specified value is present in a set, by using the in keyword."
   ]
  },
  {
   "cell_type": "code",
   "execution_count": 8,
   "id": "1199f16b",
   "metadata": {},
   "outputs": [
    {
     "name": "stdout",
     "output_type": "stream",
     "text": [
      "True\n"
     ]
    }
   ],
   "source": [
    "print(\"John\" in Students)"
   ]
  },
  {
   "cell_type": "markdown",
   "id": "c68d2fbd",
   "metadata": {},
   "source": [
    "### Add set items"
   ]
  },
  {
   "cell_type": "markdown",
   "id": "0581f44b",
   "metadata": {},
   "source": [
    "* Once a set is created, you cannot change its items, but you can add new items.\n",
    "* Add an item to a set, using the add() method:\n",
    "* To add items from another set into the current set, use the update() method."
   ]
  },
  {
   "cell_type": "code",
   "execution_count": 9,
   "id": "5a70fc2d",
   "metadata": {},
   "outputs": [
    {
     "name": "stdout",
     "output_type": "stream",
     "text": [
      "{'Maria', 'Jack', 'Rachel', 'John', 'Adam', 'Peter'}\n"
     ]
    }
   ],
   "source": [
    "Students.add(\"Jack\")\n",
    "print(Students)"
   ]
  },
  {
   "cell_type": "code",
   "execution_count": 10,
   "id": "95294583",
   "metadata": {},
   "outputs": [
    {
     "name": "stdout",
     "output_type": "stream",
     "text": [
      "{'Maria', 'Thompson', 'Jack', 'Rachel', 'John', 'Adam', 'Peter', 'Nigel', 'Petros'}\n"
     ]
    }
   ],
   "source": [
    "Students1 = {\"Nigel\", \"Thompson\", \"Petros\"}\n",
    "Students.update(Students1)\n",
    "print(Students)"
   ]
  },
  {
   "cell_type": "markdown",
   "id": "0f446a9e",
   "metadata": {},
   "source": [
    "## Set items remove"
   ]
  },
  {
   "cell_type": "code",
   "execution_count": 11,
   "id": "a4ff18b9",
   "metadata": {},
   "outputs": [
    {
     "name": "stdout",
     "output_type": "stream",
     "text": [
      "{'Maria', 'Thompson', 'Jack', 'John', 'Adam', 'Peter', 'Nigel', 'Petros'}\n"
     ]
    }
   ],
   "source": [
    "# remove() method, discard() method, pop() method remove a random item, \n",
    "# clear() method empties the set, the del keyword will delete the set completely\n",
    "Students.remove(\"Rachel\")\n",
    "print(Students)"
   ]
  },
  {
   "cell_type": "code",
   "execution_count": 12,
   "id": "87b500de",
   "metadata": {},
   "outputs": [
    {
     "name": "stdout",
     "output_type": "stream",
     "text": [
      "{'Nigel', 'Thompson'}\n"
     ]
    }
   ],
   "source": [
    "Students1 = {\"Nigel\", \"Thompson\", \"Petros\"}\n",
    "Students1.discard(\"Petros\")\n",
    "print(Students1)"
   ]
  },
  {
   "cell_type": "code",
   "execution_count": 13,
   "id": "3991a83e",
   "metadata": {},
   "outputs": [
    {
     "name": "stdout",
     "output_type": "stream",
     "text": [
      "Petros\n",
      "{'Nigel', 'Thompson'}\n"
     ]
    }
   ],
   "source": [
    "Students1 = {\"Nigel\", \"Thompson\", \"Petros\"}\n",
    "x = Students1.pop()\n",
    "print(x)\n",
    "print(Students1)"
   ]
  },
  {
   "cell_type": "code",
   "execution_count": 14,
   "id": "b296cef5",
   "metadata": {},
   "outputs": [
    {
     "name": "stdout",
     "output_type": "stream",
     "text": [
      "set()\n"
     ]
    }
   ],
   "source": [
    "Students1 = {\"Nigel\", \"Thompson\", \"Petros\"}\n",
    "Students1.clear()\n",
    "print(Students1)"
   ]
  },
  {
   "cell_type": "code",
   "execution_count": 15,
   "id": "146c9fbf",
   "metadata": {},
   "outputs": [],
   "source": [
    "Students1 = {\"Nigel\", \"Thompson\", \"Petros\"}\n",
    "del Students1"
   ]
  },
  {
   "cell_type": "markdown",
   "id": "6c2056d1",
   "metadata": {},
   "source": [
    "### Join two sets"
   ]
  },
  {
   "cell_type": "code",
   "execution_count": 16,
   "id": "c18840cc",
   "metadata": {},
   "outputs": [
    {
     "name": "stdout",
     "output_type": "stream",
     "text": [
      "{'cat', 1, 3, 5, 7, 9, 'dog', 'donkey', 'cow'}\n"
     ]
    }
   ],
   "source": [
    "# union() method return a new set with  all items from both sets\n",
    "animals = {\"dog\", \"cat\", \"donkey\", \"cow\"}\n",
    "numbers = {1, 3, 5, 7, 9}\n",
    "sum1 = animals.union(numbers)\n",
    "print(sum1)"
   ]
  },
  {
   "cell_type": "code",
   "execution_count": 18,
   "id": "4ef312ca",
   "metadata": {},
   "outputs": [
    {
     "name": "stdout",
     "output_type": "stream",
     "text": [
      "{'Petros'}\n"
     ]
    }
   ],
   "source": [
    "#The intersection_update() method will keep only the items that are present in both sets. (Keep All, But NOT the Duplicates)\n",
    "animals = {\"Petros\", \"cat\", \"donkey\", \"cow\"}\n",
    "Students = {\"Nigel\", \"Thompson\", \"Petros\"}\n",
    "animals.intersection_update(Students)\n",
    "print(animals)"
   ]
  },
  {
   "cell_type": "code",
   "execution_count": 19,
   "id": "90ab8c7c",
   "metadata": {},
   "outputs": [
    {
     "name": "stdout",
     "output_type": "stream",
     "text": [
      "{'cat', 'Petros', 'Thompson', 'donkey', 'Nigel', 'cow'}\n"
     ]
    }
   ],
   "source": [
    "#The update() method inserts the items in set2 into set1: (Keep ONLY the Duplicates): \n",
    "animals = {\"Petros\", \"cat\", \"donkey\", \"cow\"}\n",
    "Students = {\"Nigel\", \"Thompson\", \"Petros\"}\n",
    "animals.update(Students)\n",
    "print(animals)"
   ]
  },
  {
   "cell_type": "code",
   "execution_count": 20,
   "id": "57685c49",
   "metadata": {},
   "outputs": [
    {
     "name": "stdout",
     "output_type": "stream",
     "text": [
      "{'cat', 'Thompson', 'donkey', 'Nigel', 'cow'}\n"
     ]
    }
   ],
   "source": [
    "#The symmetric_difference_update() method will keep only the elements that are NOT present in both sets.\n",
    "animals = {\"Petros\", \"cat\", \"donkey\", \"cow\"}\n",
    "Students = {\"Nigel\", \"Thompson\", \"Petros\"}\n",
    "animals.symmetric_difference_update(Students)\n",
    "print(animals)"
   ]
  },
  {
   "cell_type": "code",
   "execution_count": null,
   "id": "eee59940",
   "metadata": {},
   "outputs": [],
   "source": []
  }
 ],
 "metadata": {
  "kernelspec": {
   "display_name": "Python 3 (ipykernel)",
   "language": "python",
   "name": "python3"
  },
  "language_info": {
   "codemirror_mode": {
    "name": "ipython",
    "version": 3
   },
   "file_extension": ".py",
   "mimetype": "text/x-python",
   "name": "python",
   "nbconvert_exporter": "python",
   "pygments_lexer": "ipython3",
   "version": "3.11.3"
  }
 },
 "nbformat": 4,
 "nbformat_minor": 5
}
