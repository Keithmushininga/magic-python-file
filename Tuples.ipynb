{
 "cells": [
  {
   "cell_type": "markdown",
   "id": "b6758cf3",
   "metadata": {},
   "source": [
    "# Tuples"
   ]
  },
  {
   "cell_type": "markdown",
   "id": "19430294",
   "metadata": {},
   "source": [
    "* Tuple items are ordered, unchangeable, and allow duplicate values.\n",
    "* Tuples are written with round brackets."
   ]
  },
  {
   "cell_type": "code",
   "execution_count": 1,
   "id": "274d38f1",
   "metadata": {},
   "outputs": [
    {
     "name": "stdout",
     "output_type": "stream",
     "text": [
      "('Adam', 'Sam', 'Mimi', 'John', 'Sam', 'Mimi')\n"
     ]
    }
   ],
   "source": [
    "students = (\"Adam\", \"Sam\", \"Mimi\", \"John\", \"Sam\", \"Mimi\")\n",
    "print(students)"
   ]
  },
  {
   "cell_type": "code",
   "execution_count": 2,
   "id": "26368444",
   "metadata": {},
   "outputs": [
    {
     "name": "stdout",
     "output_type": "stream",
     "text": [
      "6\n"
     ]
    }
   ],
   "source": [
    "print(len(students))"
   ]
  },
  {
   "cell_type": "code",
   "execution_count": 3,
   "id": "88520d78",
   "metadata": {},
   "outputs": [
    {
     "name": "stdout",
     "output_type": "stream",
     "text": [
      "<class 'tuple'>\n"
     ]
    }
   ],
   "source": [
    "print(type(students))"
   ]
  },
  {
   "cell_type": "code",
   "execution_count": 5,
   "id": "743f8fde",
   "metadata": {},
   "outputs": [
    {
     "name": "stdout",
     "output_type": "stream",
     "text": [
      "('Adam', 'Sam', 'Mimi', 'Sam')\n"
     ]
    }
   ],
   "source": [
    "students1 = tuple((\"Adam\", \"Sam\", \"Mimi\", \"Sam\"))\n",
    "print(students1)"
   ]
  },
  {
   "cell_type": "markdown",
   "id": "d4c1f206",
   "metadata": {},
   "source": [
    "## Access tuple items"
   ]
  },
  {
   "cell_type": "code",
   "execution_count": 8,
   "id": "88f71bf4",
   "metadata": {},
   "outputs": [
    {
     "name": "stdout",
     "output_type": "stream",
     "text": [
      "Sam\n",
      "Leeroy\n",
      "('Mimi', 'John', 'Peter')\n",
      "('Adam', 'Sam', 'Mimi', 'John')\n",
      "('Mimi', 'John', 'Peter', 'Leeroy')\n",
      "('Mimi', 'John', 'Peter')\n"
     ]
    }
   ],
   "source": [
    "students = (\"Adam\", \"Sam\", \"Mimi\", \"John\", \"Peter\", \"Leeroy\")\n",
    "print(students[1])\n",
    "print(students[-1])\n",
    "print(students[2:5])\n",
    "print(students[:4])\n",
    "print(students[2:])\n",
    "print(students[-4:-1])"
   ]
  },
  {
   "cell_type": "markdown",
   "id": "8a8f0800",
   "metadata": {},
   "source": [
    "## Tuple updating"
   ]
  },
  {
   "cell_type": "markdown",
   "id": "70a338f0",
   "metadata": {},
   "source": [
    "* Once a tuple is created, you cannot change its values. Tuples are unchangeable, or immutable as it also is called.\n",
    "* But there is a workaround. You can convert the tuple into a list, change the list, and convert the list back into a tuple."
   ]
  },
  {
   "cell_type": "code",
   "execution_count": 9,
   "id": "d2f1352a",
   "metadata": {},
   "outputs": [
    {
     "name": "stdout",
     "output_type": "stream",
     "text": [
      "('Adam', 'Sam', 'Mimi', 'John', 'Peter', 'Leeroy', 'Maria')\n"
     ]
    }
   ],
   "source": [
    "# Convert the tuple into a list, add \"Maria\", and convert it back into a tuple:\n",
    "students = (\"Adam\", \"Sam\", \"Mimi\", \"John\", \"Peter\", \"Leeroy\")\n",
    "y = list(students)\n",
    "y.append(\"Maria\")\n",
    "students = tuple(y)\n",
    "print(students)"
   ]
  },
  {
   "cell_type": "code",
   "execution_count": 11,
   "id": "f6e2a2b0",
   "metadata": {},
   "outputs": [
    {
     "name": "stdout",
     "output_type": "stream",
     "text": [
      "('Adam', 'Sam', 'Mimi', 'John', 'Leeroy')\n"
     ]
    }
   ],
   "source": [
    "#Convert the tuple into a list, remove \"Peter\", and convert it back into a tuple:\n",
    "students = (\"Adam\", \"Sam\", \"Mimi\", \"John\", \"Peter\", \"Leeroy\")\n",
    "y = list(students)\n",
    "y.remove(\"Peter\")\n",
    "students = tuple(y)\n",
    "print(students)"
   ]
  },
  {
   "cell_type": "code",
   "execution_count": 12,
   "id": "233b2300",
   "metadata": {},
   "outputs": [],
   "source": [
    "# The del keyword can delete the tuple completely\n",
    "students = (\"Adam\", \"Sam\", \"Mimi\", \"John\", \"Peter\", \"Leeroy\")\n",
    "del students"
   ]
  },
  {
   "cell_type": "markdown",
   "id": "790f2cff",
   "metadata": {},
   "source": [
    "## Tuples unpack"
   ]
  },
  {
   "cell_type": "markdown",
   "id": "e6d3c65a",
   "metadata": {},
   "source": [
    "* When we create a tuple, we normally assign values to it. \n",
    "* This is called \"packing\" a tuple: But, in Python, we are also allowed to extract the values back into variables. This is called \"unpacking\":"
   ]
  },
  {
   "cell_type": "code",
   "execution_count": 14,
   "id": "9767d996",
   "metadata": {},
   "outputs": [
    {
     "name": "stdout",
     "output_type": "stream",
     "text": [
      "Adam\n",
      "Sam\n",
      "['Mimi', 'John', 'Peter', 'Leeroy']\n"
     ]
    }
   ],
   "source": [
    "students = (\"Adam\", \"Sam\", \"Mimi\", \"John\", \"Peter\", \"Leeroy\")\n",
    "(Rose, Ruby, *Ronnie) = students\n",
    "print(Rose)\n",
    "print(Ruby)\n",
    "print(Ronnie)"
   ]
  },
  {
   "cell_type": "markdown",
   "id": "059e2525",
   "metadata": {},
   "source": [
    "## Tuples loops"
   ]
  },
  {
   "cell_type": "markdown",
   "id": "7c0a0779",
   "metadata": {},
   "source": [
    "* Print all items by referring to their index number: \n",
    "* Print all items, using a while loop to go through all the index numbers;"
   ]
  },
  {
   "cell_type": "code",
   "execution_count": 15,
   "id": "2ecc480c",
   "metadata": {},
   "outputs": [
    {
     "name": "stdout",
     "output_type": "stream",
     "text": [
      "Adam\n",
      "Sam\n",
      "Mimi\n",
      "John\n",
      "Peter\n",
      "Leeroy\n"
     ]
    }
   ],
   "source": [
    "# For Loop method\n",
    "students = (\"Adam\", \"Sam\", \"Mimi\", \"John\", \"Peter\", \"Leeroy\")\n",
    "for i in range(len(students)):\n",
    "    print(students[i])"
   ]
  },
  {
   "cell_type": "code",
   "execution_count": 18,
   "id": "ba220471",
   "metadata": {},
   "outputs": [
    {
     "name": "stdout",
     "output_type": "stream",
     "text": [
      "Adam\n",
      "Sam\n",
      "Mimi\n",
      "John\n",
      "Peter\n",
      "Leeroy\n"
     ]
    }
   ],
   "source": [
    "# While Loop method\n",
    "students = (\"Adam\", \"Sam\", \"Mimi\", \"John\", \"Peter\", \"Leeroy\")\n",
    "i = 0\n",
    "while i < len(students):\n",
    "    print(students[i])\n",
    "    i += 1"
   ]
  },
  {
   "cell_type": "code",
   "execution_count": null,
   "id": "0d79156f",
   "metadata": {},
   "outputs": [],
   "source": []
  }
 ],
 "metadata": {
  "kernelspec": {
   "display_name": "Python 3 (ipykernel)",
   "language": "python",
   "name": "python3"
  },
  "language_info": {
   "codemirror_mode": {
    "name": "ipython",
    "version": 3
   },
   "file_extension": ".py",
   "mimetype": "text/x-python",
   "name": "python",
   "nbconvert_exporter": "python",
   "pygments_lexer": "ipython3",
   "version": "3.11.3"
  }
 },
 "nbformat": 4,
 "nbformat_minor": 5
}
