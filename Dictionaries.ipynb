{
 "cells": [
  {
   "cell_type": "markdown",
   "id": "5ffa08f5",
   "metadata": {},
   "source": [
    "# **Dictionary**"
   ]
  },
  {
   "cell_type": "markdown",
   "id": "41f8a523",
   "metadata": {},
   "source": [
    "* Dictionary is a mutable, unordered collection of key-value pairs where each key must be unique\n",
    "*  Dictionaries are implemented as hash tables, making lookups and insertions very efficient.\n",
    "* They are also known as associative arrays or hash maps in other programming languages.\n",
    "* You can create a dictionary using curly braces {} and separating key-value pairs with colons :."
   ]
  },
  {
   "cell_type": "code",
   "execution_count": 1,
   "id": "50a26774",
   "metadata": {},
   "outputs": [
    {
     "name": "stdout",
     "output_type": "stream",
     "text": [
      "{'January': 31, 'February': 28, 'March': 31, 'April': 30, 'May': 31, 'June': 30}\n"
     ]
    }
   ],
   "source": [
    "days = {'January':31, 'February':28, 'March':31, 'April':30, 'May':31, 'June':30}\n",
    "print(days)"
   ]
  },
  {
   "cell_type": "code",
   "execution_count": 2,
   "id": "6321ed9a",
   "metadata": {},
   "outputs": [
    {
     "name": "stdout",
     "output_type": "stream",
     "text": [
      "6\n"
     ]
    }
   ],
   "source": [
    "print(len(days))"
   ]
  },
  {
   "cell_type": "code",
   "execution_count": 3,
   "id": "9d2ac4ba",
   "metadata": {},
   "outputs": [
    {
     "name": "stdout",
     "output_type": "stream",
     "text": [
      "<class 'dict'>\n"
     ]
    }
   ],
   "source": [
    "print(type(days))"
   ]
  },
  {
   "cell_type": "markdown",
   "id": "b7dd0d17",
   "metadata": {},
   "source": [
    "# **Access Dictionary items**"
   ]
  },
  {
   "cell_type": "code",
   "execution_count": 6,
   "id": "e3ac5406",
   "metadata": {},
   "outputs": [
    {
     "name": "stdout",
     "output_type": "stream",
     "text": [
      "--------------------------------------------------------------------\n",
      "28\n",
      "28\n",
      "dict_keys(['January', 'February', 'March', 'April', 'May', 'June'])\n",
      "dict_values([31, 28, 31, 30, 31, 30])\n",
      "dict_items([('January', 31), ('February', 28), ('March', 31), ('April', 30), ('May', 31), ('June', 30)])\n"
     ]
    }
   ],
   "source": [
    "day = days['February']\n",
    "day1 = days.get('February')\n",
    "keys = days.keys()\n",
    "values = days.values()\n",
    "items = days.items()\n",
    "print(day)\n",
    "print(day1)\n",
    "print(keys)\n",
    "print(values)\n",
    "print(items)"
   ]
  },
  {
   "cell_type": "markdown",
   "id": "fb4b464a",
   "metadata": {},
   "source": [
    "# *****Change Dictionary items*****"
   ]
  },
  {
   "cell_type": "code",
   "execution_count": 7,
   "id": "8c0ed356",
   "metadata": {},
   "outputs": [
    {
     "name": "stdout",
     "output_type": "stream",
     "text": [
      "{'January': 31, 'February': 29, 'March': 31, 'April': 30, 'May': 31, 'June': 30}\n"
     ]
    }
   ],
   "source": [
    "days[\"February\"] = 29\n",
    "print(days)"
   ]
  },
  {
   "cell_type": "markdown",
   "id": "a2e5d87d",
   "metadata": {},
   "source": [
    "# *****Adding Items*****"
   ]
  },
  {
   "cell_type": "code",
   "execution_count": 9,
   "id": "99998e7b",
   "metadata": {},
   "outputs": [
    {
     "name": "stdout",
     "output_type": "stream",
     "text": [
      "{'January': 31, 'February': 29, 'March': 31, 'April': 30, 'May': 31, 'June': 30, 'July': 31}\n"
     ]
    }
   ],
   "source": [
    "days[\"July\"] = 31\n",
    "print(days)"
   ]
  },
  {
   "cell_type": "code",
   "execution_count": 10,
   "id": "32982546",
   "metadata": {},
   "outputs": [
    {
     "name": "stdout",
     "output_type": "stream",
     "text": [
      "{'January': 31, 'February': 29, 'March': 31, 'April': 30, 'May': 31, 'June': 30, 'July': 31, 'August': 31}\n"
     ]
    }
   ],
   "source": [
    "days.update({\"August\": 31})\n",
    "print(days)"
   ]
  },
  {
   "cell_type": "markdown",
   "id": "70e97208",
   "metadata": {},
   "source": [
    "# *****Remove Dictionary Items*****"
   ]
  },
  {
   "cell_type": "code",
   "execution_count": 11,
   "id": "05fbf422",
   "metadata": {},
   "outputs": [
    {
     "name": "stdout",
     "output_type": "stream",
     "text": [
      "{'January': 31, 'February': 29, 'March': 31, 'April': 30, 'May': 31, 'June': 30, 'July': 31}\n"
     ]
    }
   ],
   "source": [
    "# The pop() method removes the item wuth the specified key name\n",
    "days.pop(\"August\")\n",
    "print(days)"
   ]
  },
  {
   "cell_type": "code",
   "execution_count": 12,
   "id": "cc579f21",
   "metadata": {},
   "outputs": [
    {
     "name": "stdout",
     "output_type": "stream",
     "text": [
      "{'January': 31, 'February': 29, 'March': 31, 'April': 30, 'May': 31, 'June': 30}\n"
     ]
    }
   ],
   "source": [
    "# The popitem() method removes the last inserted item\n",
    "days.popitem()\n",
    "print(days)"
   ]
  },
  {
   "cell_type": "code",
   "execution_count": 13,
   "id": "a314fb13",
   "metadata": {},
   "outputs": [
    {
     "name": "stdout",
     "output_type": "stream",
     "text": [
      "{'January': 31, 'February': 29, 'March': 31, 'April': 30, 'May': 31}\n"
     ]
    }
   ],
   "source": [
    "# The del keyword removes the item with the specified key name.\n",
    "# The del keyword can also delete the dictionary completely.\n",
    "del days[\"June\"]\n",
    "print(days)"
   ]
  },
  {
   "cell_type": "code",
   "execution_count": 14,
   "id": "3f8ab121",
   "metadata": {},
   "outputs": [
    {
     "name": "stdout",
     "output_type": "stream",
     "text": [
      "{}\n"
     ]
    }
   ],
   "source": [
    "# The clear() method empties the dictionary\n",
    "days.clear()\n",
    "print(days)"
   ]
  },
  {
   "cell_type": "markdown",
   "id": "274782a5",
   "metadata": {},
   "source": [
    "# *****Copying dictionaries*****"
   ]
  },
  {
   "cell_type": "code",
   "execution_count": 16,
   "id": "256b5ea6",
   "metadata": {},
   "outputs": [
    {
     "name": "stdout",
     "output_type": "stream",
     "text": [
      "{'January': 31, 'February': 28, 'March': 31, 'April': 30, 'May': 31, 'June': 30}\n"
     ]
    }
   ],
   "source": [
    "days = {'January':31, 'February':28, 'March':31, 'April':30, 'May':31, 'June':30}\n",
    "days2 = days.copy()\n",
    "print(days2)"
   ]
  },
  {
   "cell_type": "code",
   "execution_count": null,
   "id": "19e4fb2b",
   "metadata": {},
   "outputs": [],
   "source": []
  }
 ],
 "metadata": {
  "kernelspec": {
   "display_name": "Python 3 (ipykernel)",
   "language": "python",
   "name": "python3"
  },
  "language_info": {
   "codemirror_mode": {
    "name": "ipython",
    "version": 3
   },
   "file_extension": ".py",
   "mimetype": "text/x-python",
   "name": "python",
   "nbconvert_exporter": "python",
   "pygments_lexer": "ipython3",
   "version": "3.11.3"
  }
 },
 "nbformat": 4,
 "nbformat_minor": 5
}
